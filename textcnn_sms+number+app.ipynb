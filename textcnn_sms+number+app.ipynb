{
 "cells": [
  {
   "cell_type": "code",
   "execution_count": 79,
   "id": "67bdd362-62bb-4695-8226-ddf66da2efed",
   "metadata": {},
   "outputs": [],
   "source": [
    "import pandas as pd\n",
    "import numpy as np\n",
    "from sklearn.model_selection import train_test_split\n",
    "import tensorflow as tf\n",
    "from tensorflow.keras.losses import BinaryCrossentropy\n",
    "from sklearn.metrics import roc_auc_score\n",
    "from tensorflow.keras.optimizers import Adam\n",
    "from tensorflow.keras.metrics import AUC\n",
    "from tensorflow.keras.callbacks import ModelCheckpoint, Callback\n",
    "from tqdm import tqdm\n",
    "from tensorflow.keras.preprocessing.text import Tokenizer\n",
    "import os\n",
    "from tensorflow.keras.preprocessing.sequence import pad_sequences\n",
    "from tensorflow.keras.models import Sequential\n",
    "from tensorflow.keras.layers import Embedding, Conv1D, Input, ZeroPadding1D, Add, Flatten, Reshape, concatenate, GlobalMaxPooling1D, Dense, Dropout, MaxPooling1D, Concatenate\n",
    "from tensorflow.keras.models import Model\n",
    "\n",
    "from utils import preprocess_chunk, preprocess_text\n",
    "from utils_app import process_app, preprocess_chunk\n",
    "import multiprocessing\n",
    "\n",
    "from sklearn.preprocessing import StandardScaler\n",
    "import joblib"
   ]
  },
  {
   "cell_type": "code",
   "execution_count": 80,
   "id": "1c33a3f2-56b9-4ff8-b223-116ac1600ccf",
   "metadata": {},
   "outputs": [],
   "source": [
    "num_cores = multiprocessing.cpu_count()"
   ]
  },
  {
   "cell_type": "code",
   "execution_count": null,
   "id": "2effbda8-04df-4fb4-b359-c1314eb3276c",
   "metadata": {},
   "outputs": [],
   "source": []
  },
  {
   "cell_type": "markdown",
   "id": "8867ea1a-dccc-41d8-b12b-1fda49dfcaf0",
   "metadata": {},
   "source": [
    "# 数据加载"
   ]
  },
  {
   "cell_type": "code",
   "execution_count": 23,
   "id": "ec7cdc6c-570a-4ba2-9339-bad0da216859",
   "metadata": {},
   "outputs": [
    {
     "name": "stderr",
     "output_type": "stream",
     "text": [
      "/var/folders/5c/fr6w2cl12zxfxsnbl0zt4g_00000gn/T/ipykernel_98409/4264364130.py:1: ParserWarning: Falling back to the 'python' engine because the 'c' engine does not support regex separators (separators > 1 char and different from '\\s+' are interpreted as regex); you can avoid this warning by specifying engine='python'.\n",
      "  data_app = pd.read_csv(\"./feature_original_data.csv\", sep = '/001XG')\n"
     ]
    },
    {
     "data": {
      "text/plain": [
       "(89648, 9)"
      ]
     },
     "execution_count": 23,
     "metadata": {},
     "output_type": "execute_result"
    }
   ],
   "source": [
    "data_app = pd.read_csv(\"./feature_original_data.csv\", sep = '/001XG')\n",
    "data_app.shape"
   ]
  },
  {
   "cell_type": "code",
   "execution_count": null,
   "id": "a02def0b-daea-4299-92cd-5debcf07e443",
   "metadata": {},
   "outputs": [],
   "source": []
  },
  {
   "cell_type": "code",
   "execution_count": 24,
   "id": "09814d98-fd27-4d5e-a91c-ae187f980a86",
   "metadata": {},
   "outputs": [],
   "source": [
    "data_app = data_app[['f_public_uid', 'f_app_data', 'f_public_last_submit_time']]\n",
    "data_app = data_app.rename(columns={'f_public_last_submit_time':'submit_time'})"
   ]
  },
  {
   "cell_type": "code",
   "execution_count": null,
   "id": "3426a4f8-7f07-4476-b38b-bf8570cac56c",
   "metadata": {},
   "outputs": [],
   "source": []
  },
  {
   "cell_type": "code",
   "execution_count": 26,
   "id": "777ee430-fad7-45ac-bdb9-03ca26da64bf",
   "metadata": {},
   "outputs": [],
   "source": [
    "data_final = pd.read_csv(\"./data_final_sms_number.csv\")"
   ]
  },
  {
   "cell_type": "code",
   "execution_count": null,
   "id": "d5597532-eead-4bea-9cf5-73545a869125",
   "metadata": {},
   "outputs": [],
   "source": []
  },
  {
   "cell_type": "code",
   "execution_count": 27,
   "id": "3b96af69-db2a-4d77-828d-dcd614d5ca72",
   "metadata": {},
   "outputs": [
    {
     "name": "stdout",
     "output_type": "stream",
     "text": [
      "(75604, 921)\n",
      "(75604, 921)\n"
     ]
    }
   ],
   "source": [
    "data_final = pd.merge(data_app, data_final, on=['f_public_uid'])\n",
    "print(data_final.shape)\n",
    "data_final.head()\n",
    "\n",
    "data_final = data_final.drop_duplicates(subset=['f_public_uid']\n",
    "                                        , keep='first', inplace=False)\n",
    "print(data_final.shape)"
   ]
  },
  {
   "cell_type": "code",
   "execution_count": 28,
   "id": "e7125583-f1a9-47c6-a7ef-75e13676eac9",
   "metadata": {},
   "outputs": [],
   "source": [
    "data_final['preprocessed_sms'] = data_final['preprocessed_sms'].fillna('')"
   ]
  },
  {
   "cell_type": "code",
   "execution_count": 29,
   "id": "b9e49498-6de5-4183-a4de-932cf2ac73d8",
   "metadata": {},
   "outputs": [],
   "source": [
    "data_final.to_csv('data_final_sms_number_app.csv', index = False)"
   ]
  },
  {
   "cell_type": "markdown",
   "id": "9aca72f4-cfb9-4d33-b1e9-c07bc9bc7a2d",
   "metadata": {},
   "source": [
    "## 先加工applist数据"
   ]
  },
  {
   "cell_type": "code",
   "execution_count": 31,
   "id": "02ee0eac-a564-4b7a-8e41-c2ed60ce9b08",
   "metadata": {},
   "outputs": [],
   "source": [
    "def pocess_data(df, save_file):\n",
    "    # 将数据分成多个部分，每个部分处理一次\n",
    "    chunks = np.array_split(df, num_cores)\n",
    "    \n",
    "    # 使用进度条tqdm展示进度\n",
    "    with multiprocessing.Pool(processes=num_cores) as pool:\n",
    "        processed_chunks = list(tqdm(pool.imap(preprocess_chunk, chunks), total=num_cores))\n",
    "\n",
    "    # 合并处理后的结果\n",
    "    df = pd.concat(processed_chunks, ignore_index=True)\n",
    "    df.to_csv(save_file, index = False)\n",
    "    return df"
   ]
  },
  {
   "cell_type": "code",
   "execution_count": 32,
   "id": "cc2b724f-b127-40c9-b0cf-b4b8059bb3af",
   "metadata": {},
   "outputs": [
    {
     "name": "stderr",
     "output_type": "stream",
     "text": [
      "100%|██████████| 12/12 [01:56<00:00,  9.68s/it]\n"
     ]
    }
   ],
   "source": [
    "data_final = pocess_data(data_final, 'data_final_preprocessed_sms_num_app.csv')"
   ]
  },
  {
   "cell_type": "code",
   "execution_count": 35,
   "id": "8d3b4284-7fd0-4f89-96f7-22c314393cf8",
   "metadata": {},
   "outputs": [
    {
     "data": {
      "text/plain": [
       "33"
      ]
     },
     "execution_count": 35,
     "metadata": {},
     "output_type": "execute_result"
    }
   ],
   "source": []
  },
  {
   "cell_type": "code",
   "execution_count": null,
   "id": "30afdeaa-50a7-4ec2-b7cb-0ad81a5fb1fa",
   "metadata": {},
   "outputs": [],
   "source": []
  },
  {
   "cell_type": "markdown",
   "id": "69f21483-cfb5-459b-a1d9-7f31ddb8ae2a",
   "metadata": {},
   "source": [
    "## 数据集划分"
   ]
  },
  {
   "cell_type": "code",
   "execution_count": 38,
   "id": "46717555-29fb-40ed-b282-e028b864367d",
   "metadata": {},
   "outputs": [],
   "source": [
    "data_final['repayment_time'] = pd.to_datetime(data_final['repayment_time'])"
   ]
  },
  {
   "cell_type": "code",
   "execution_count": 39,
   "id": "fd7e8462-b5a7-41e3-8e06-264712f92ebb",
   "metadata": {},
   "outputs": [
    {
     "data": {
      "text/plain": [
       "(Timestamp('2023-08-01 00:00:00'), Timestamp('2023-10-25 00:00:00'))"
      ]
     },
     "execution_count": 39,
     "metadata": {},
     "output_type": "execute_result"
    }
   ],
   "source": [
    "data_final.repayment_time.min(), data_final.repayment_time.max()"
   ]
  },
  {
   "cell_type": "code",
   "execution_count": 40,
   "id": "7e7b0142-796d-44ab-bafb-02994e8d3d2e",
   "metadata": {},
   "outputs": [
    {
     "name": "stdout",
     "output_type": "stream",
     "text": [
      "(66467, 922)\n"
     ]
    }
   ],
   "source": [
    "train_data = data_final[data_final.repayment_time < pd.Timestamp(2023, 10, 15)]\n",
    "print(train_data.shape)"
   ]
  },
  {
   "cell_type": "code",
   "execution_count": 41,
   "id": "dc59f891-4e3b-48f3-a6b1-fb98e1284a2d",
   "metadata": {},
   "outputs": [
    {
     "name": "stdout",
     "output_type": "stream",
     "text": [
      "(9137, 922)\n"
     ]
    }
   ],
   "source": [
    "IDT_test = data_final[data_final.repayment_time >= pd.Timestamp(2023, 10, 15)]\n",
    "print(IDT_test.shape)\n"
   ]
  },
  {
   "cell_type": "code",
   "execution_count": 42,
   "id": "365b9cfa-199d-4657-bd51-dd9348515ec1",
   "metadata": {},
   "outputs": [],
   "source": [
    "train_data, test_data, _, _ = train_test_split(train_data, range(train_data.shape[0]), \n",
    "                                                test_size=0.1, random_state=1314)\n"
   ]
  },
  {
   "cell_type": "code",
   "execution_count": 43,
   "id": "e70f0dbd-f0f4-4870-bfa0-023f621f2bbe",
   "metadata": {},
   "outputs": [
    {
     "data": {
      "text/plain": [
       "((59820, 922), (6647, 922), (9137, 922))"
      ]
     },
     "execution_count": 43,
     "metadata": {},
     "output_type": "execute_result"
    }
   ],
   "source": [
    "train_data.shape, test_data.shape, IDT_test.shape"
   ]
  },
  {
   "cell_type": "code",
   "execution_count": 44,
   "id": "56bf1da4-6b6b-407a-91ca-fc91dc3e7b2d",
   "metadata": {},
   "outputs": [
    {
     "data": {
      "text/plain": [
       "(0.3834002006018054, 0.378065292613209, 0.3329320345846558)"
      ]
     },
     "execution_count": 44,
     "metadata": {},
     "output_type": "execute_result"
    }
   ],
   "source": [
    "train_data.d7.mean(), test_data.d7.mean(), IDT_test.d7.mean()"
   ]
  },
  {
   "cell_type": "code",
   "execution_count": 45,
   "id": "b6241ba7-df68-4f7f-8235-fc9479cb1bac",
   "metadata": {},
   "outputs": [],
   "source": [
    "train_data.to_csv('train_data_num_sms_app.csv', index = False)\n",
    "test_data.to_csv('test_data_num_sms_app.csv', index = False)\n",
    "IDT_test.to_csv('IDT_test_num_sms_app.csv', index = False)"
   ]
  },
  {
   "cell_type": "code",
   "execution_count": null,
   "id": "50df57d6-8749-4a8b-a24f-ab37474ee401",
   "metadata": {},
   "outputs": [],
   "source": [
    "train_data = pd.read_csv(\"./train_data_num_sms_app.csv\")\n",
    "test_data = pd.read_csv(\"./test_data_num_sms_app.csv\")\n",
    "IDT_test = pd.read_csv(\"./IDT_test_num_sms_app.csv\")"
   ]
  },
  {
   "cell_type": "code",
   "execution_count": null,
   "id": "178b8590-eb62-48fe-aef6-13e839cb9f35",
   "metadata": {},
   "outputs": [],
   "source": [
    "train_data['preprocessed_sms'] = train_data['preprocessed_sms'].fillna('')\n",
    "test_data['preprocessed_sms'] = test_data['preprocessed_sms'].fillna('')\n",
    "IDT_test['preprocessed_sms'] = IDT_test['preprocessed_sms'].fillna('')"
   ]
  },
  {
   "cell_type": "code",
   "execution_count": null,
   "id": "7b0a11bb-4427-4073-a2b0-23abbe7e6292",
   "metadata": {},
   "outputs": [],
   "source": []
  },
  {
   "cell_type": "code",
   "execution_count": null,
   "id": "43150b8c-e789-417a-866b-00b13d9e439b",
   "metadata": {},
   "outputs": [],
   "source": []
  },
  {
   "cell_type": "markdown",
   "id": "3f53bd40-247d-4310-8a4d-39297e8ce23e",
   "metadata": {},
   "source": [
    "# 模型数据处理"
   ]
  },
  {
   "cell_type": "markdown",
   "id": "d9f4df40-6478-4b87-85f9-50a9f57631e2",
   "metadata": {},
   "source": [
    "## 处理短信文本"
   ]
  },
  {
   "cell_type": "code",
   "execution_count": 47,
   "id": "20cd230d-de91-4737-b53f-437498e2b365",
   "metadata": {},
   "outputs": [],
   "source": [
    "# 从 JSON 文件加载 Tokenizer 配置\n",
    "with open('tokenizer_config.json', 'r', encoding='utf-8') as json_file:\n",
    "    loaded_tokenizer_json = json_file.read()\n",
    "    tokenizer = tf.keras.preprocessing.text.tokenizer_from_json(loaded_tokenizer_json)\n",
    "tokenizer.num_words = 15000"
   ]
  },
  {
   "cell_type": "code",
   "execution_count": 48,
   "id": "cfe91875-752a-4604-a48a-9434e15843ed",
   "metadata": {},
   "outputs": [],
   "source": [
    "# 对文本数据进行标记和填充\n",
    "max_words = 15000  # 选择词汇表的大小\n",
    "max_len_sms = 7000      # 选择文本的最大长度"
   ]
  },
  {
   "cell_type": "code",
   "execution_count": null,
   "id": "5bc017ca-eced-4cd3-8b09-e12422d93934",
   "metadata": {},
   "outputs": [],
   "source": []
  },
  {
   "cell_type": "code",
   "execution_count": 49,
   "id": "1080cefc-5a2d-4c41-9283-6679c31a2c16",
   "metadata": {},
   "outputs": [],
   "source": [
    "X_train_sms = tokenizer.texts_to_sequences(train_data['preprocessed_sms'])\n",
    "X_test_sms = tokenizer.texts_to_sequences(test_data['preprocessed_sms'])\n",
    "X_idt_sms = tokenizer.texts_to_sequences(IDT_test['preprocessed_sms'])"
   ]
  },
  {
   "cell_type": "code",
   "execution_count": 50,
   "id": "ed7fef03-06b7-4680-9856-a0bbb636ed88",
   "metadata": {},
   "outputs": [],
   "source": [
    "X_train_sms = pad_sequences(X_train_sms, padding='post', maxlen=max_len_sms)\n",
    "X_test_sms = pad_sequences(X_test_sms, padding='post', maxlen=max_len_sms)\n",
    "X_idt_sms = pad_sequences(X_idt_sms, padding='post', maxlen=max_len_sms)"
   ]
  },
  {
   "cell_type": "markdown",
   "id": "4dd47384-5e28-42c4-ae9a-9f3828e4a5a9",
   "metadata": {},
   "source": [
    "## 数值特征处理"
   ]
  },
  {
   "cell_type": "code",
   "execution_count": 83,
   "id": "24f974f2-4cc7-4c73-a279-a78e09087bcf",
   "metadata": {},
   "outputs": [
    {
     "data": {
      "text/plain": [
       "749"
      ]
     },
     "execution_count": 83,
     "metadata": {},
     "output_type": "execute_result"
    }
   ],
   "source": [
    "feature_num = [\n",
    "'f_sms_loan_v2_action_overdue_distinct_amount_avg_3m','f_current_app_nearly_2_months_app_percentage','f_sms_loan_v2_action_overdue_distinct_amount_avg_3w','f_current_app_last_app_install_days','f_app_list_retentive_time_220622_com_transsnetfinancial_palmcredit','f_sms_loan_v2_action_approval_3m','f_sms_basic_v2_square_count_1m','f_sms_loan_v2_action_approval_3w','f_app_crc_classification_ins_balance_overdue_rate','f_app_list_retentive_time_220622_com_whatsapp_w4b','f_sms_loan_v2_action_amount_1m','f_sms_basic_v2_square_count_2w','f_app_crc_classification_ins_accounts_sum','f_app_borrowing_avg_prepayment_hours','f_sms_loan_v2_action_raise_amount_count_2m','f_scrapy_apps_video_editors_count','f_scrapy_apps_music_count','f_sms_loan_v2_action_approval_1m','f_sms_basic_v2_square_count_3m','f_sms_loan_v2_action_raise_amount_count_2w','f_sms_loan_v2_action_amount_1w','f_sms_loan_v2_action_approval_1w','f_sms_loan_v2_action_amount_2m','f_scrapy_apps_travel_count','f_sms_basic_v2_square_count_1w','f_sms_loan_v2_action_raise_amount_count_3m','f_app_borrowing_curr_vip005_max_overdue','f_intermediate_feature_sd_can_use_size','f_app_user_identity_id_card_handheld_path_is_null','f_scrapy_apps_education_count','f_sms_loan_v2_action_raise_amount_count_3w','f_sms_basic_v2_square_count_2m','f_sms_loan_v2_action_approval_2m','f_app_apply_account_name','f_sms_loan_v2_action_amount_2w','f_sms_loan_v2_action_approval_2w','f_sms_loan_v2_action_approval_distinct_amount_count_1m','f_sms_loan_v2_action_approval_amount_max_2w','f_app_borrowing_curr_not_vip005_max_loan_amount','f_app_crc_classification_prod_type_sanctioned_amount_sum','f_sms_loan_v2_action_approval_amount_max_3m','f_sms_loan_v2_action_approval_amount_max_1w','f_app_user_identity_word_card_path_is_null','f_sms_loan_v2_action_raise_amount_count_1m','f_user_device_time_country_2','f_sms_loan_v2_action_raise_amount_count_1w','f_user_device_time_country_1','f_sms_loan_v2_action_approval_amount_max_2m','f_user_device_time_country_4','f_user_device_time_country_3','f_intermediate_feature_cpu_num','f_user_device_time_country_9','f_user_device_time_country_6','f_user_device_time_country_5','f_user_device_time_country_8','f_app_apply_before_apply_count','f_user_device_time_country_7','f_app_crc_classification_ins_credit_overdue_minus_single','f_app_list_retentive_time_220622_com_ng_easecash','f_sms_loan_v2_action_overdue_distinct_amount_avg_1m','f_app_crc_classification_prod_type_total_outstanding_balance_sum','f_app_user_identity_driving_licence_path_is_null','f_sms_loan_v2_action_overdue_distinct_amount_avg_1w','f_sms_loan_v2_action_coupon_distinct_amount_media_1m','f_app_list_retentive_time_220622_com_credit_nicenaira','f_scrapy_apps_food_count','f_app_crc_classification_ins_oustanding_balance_single_avg','f_app_list_retentive_time_220622_com_fair_credit_faircreditobrej','f_sms_loan_v2_action_approval_amount_max_3w','f_sms_loan_v2_action_overdue_distinct_amount_avg_2m','f_sms_basic_v2_phone_num_count_1w','f_sms_loan_v2_action_overdue_distinct_amount_avg_2w','f_scrapy_apps_events_count','f_sms_basic_v2_phone_num_count_1m','f_app_list_retentive_time_220622_com_loan_cash_credit_easemoni_nigeria','f_sms_basic_v2_phone_num_count_2w','f_scrapy_apps_family_count','f_app_crc_classification_ins_overdue_balance_minus_single','f_sms_loan_v2_action_remind_distinct_amount_avg_2m','f_sms_loan_v2_action_overdue_distinct_amount_count_1w','f_sms_basic_v2_phone_num_count_2m','f_current_app_first_app_install_days','f_sms_loan_v2_action_raise_distinct_amount_media_2m','f_sms_loan_v2_action_overdue_distinct_amount_count_1m','f_sms_loan_v2_action_amount_distinct_amount_avg_1m','f_sms_loan_v2_action_raise_distinct_amount_media_2w','f_sms_loan_v2_action_remind_distinct_amount_avg_2w','f_app_list_retentive_time_220622_com_facebook_lite','f_current_app_nearly_1_months_app_percentage','f_app_borrowing_avg_loan_and_risk_interval_hours','f_scrapy_apps_entertainment_count','f_intermediate_feature_gender_male_marital_married','f_sms_basic_v2_phone_num_count_3w','f_sms_loan_v2_action_amount_distinct_amount_avg_1w','f_sms_loan_v2_action_remind_distinct_amount_avg_1m','f_sms_loan_v2_action_raise_distinct_amount_media_3m','f_app_borrowing_curr_not_vip005_overdue_count','f_app_crc_classification_ins_amount_overdue_avg','f_sms_loan_v2_action_raise_distinct_amount_media_3w','f_sms_loan_v2_action_remind_distinct_amount_avg_1w','f_sms_loan_v2_action_amount_distinct_amount_avg_2m','f_app_borrowing_curr_vip005_overdue_count','f_sms_basic_v2_phone_num_count_3m','f_scrapy_apps_communication_count','f_sms_loan_v2_action_amount_distinct_amount_avg_2w','f_app_borrowing_curr_all_overdue_amount','f_sms_loan_v2_action_approval_distinct_amount_count_3m','f_sms_loan_v2_action_coupon_3w','f_sms_loan_v2_action_approval_amount_min_1w','f_sms_loan_v2_action_approval_distinct_amount_count_3w','f_sms_loan_v2_action_overdue_distinct_amount_count_3w','f_sms_loan_v2_action_approval_amount_min_1m','f_sms_loan_v2_action_amount_distinct_amount_avg_3m','f_sms_loan_v2_action_overdue_distinct_amount_count_3m','f_sms_loan_v2_action_amount_distinct_amount_avg_3w','f_app_crc_classification_ins_credit_sanctioned_is_zero_sum','f_sms_loan_v2_action_approval_amount_min_2w','f_sms_loan_v2_action_approval_distinct_amount_count_2m','f_sms_loan_v2_action_approval_distinct_amount_count_2w','f_app_crc_classification_ins_legal_flag_sum','f_scrapy_apps_comics_count','f_sms_loan_v2_action_overdue_distinct_amount_count_2w','f_app_crc_classification_prod_type_no_of_accounts_sum','f_sms_loan_v2_action_overdue_1w','f_app_user_personal_residential_type','f_sms_loan_v2_action_approval_distinct_amount_count_1w','f_app_user_personal_marital_status','f_sms_loan_v2_action_overdue_distinct_amount_count_2m','f_app_crc_classification_ins_balance_credit_rate','f_sms_loan_v2_action_approval_amount_min_2m','f_sms_loan_v2_action_overdue_1m','f_sms_loan_v2_action_approval_amount_min_3w','f_sms_loan_v2_action_settle_amount_count_1w','f_sms_loan_v2_action_coupon_1w','f_sms_loan_v2_all_total_3m','f_sms_loan_v2_action_settle_amount_count_1m','f_sms_loan_v2_action_overdue_2w','f_app_list_retentive_time_220622_com_pbank_newcredit','f_sms_loan_v2_action_approval_amount_min_3m','f_sms_loan_v2_all_total_3w','f_sms_loan_v2_action_overdue_2m','f_sms_loan_v2_action_coupon_2m','f_sms_loan_v2_action_overdue_3m','f_app_borrowing_curr_borrowing_num','f_scrapy_apps_books_reference_count','f_sms_loan_v2_action_coupon_2w','f_current_app_nearly_3_months_app_count','f_user_device_sd_total_size','f_intermediate_feature_gender_female_marital_married','f_sms_loan_v2_action_overdue_3w','f_app_user_is_blacklist','f_sms_loan_v2_action_coupon_3m','f_app_user_personal_highest_school_record','f_sms_loan_v2_action_settle_amount_count_3w','f_sms_loan_v2_all_total_1m','f_sms_loan_v2_action_settle_amount_count_3m','f_app_user_permission_sms','f_app_borrowing_min_overdue_days','f_sms_loan_v2_all_total_1w','f_app_crc_classification_ins_oustanding_balance_sum','f_sms_loan_v2_action_settle_amount_count_2w','f_sms_basic_v2_same_opposite_2m_6','f_sms_loan_v2_all_total_2m','f_user_device_resolution_height','f_sms_loan_v2_action_remind_distinct_amount_media_1m','f_app_apply_bvn_status','f_sms_basic_v2_same_opposite_2m_9','f_sms_basic_v2_same_opposite_2m_2','f_sms_loan_v2_action_remind_distinct_amount_avg_3m','f_sms_loan_v2_action_settle_amount_count_2m','f_sms_loan_v2_action_raise_distinct_amount_media_1m','f_sms_loan_v2_action_remind_distinct_amount_avg_3w','f_sms_loan_v2_action_raise_distinct_amount_media_1w','f_app_list_retentive_time_220622_com_tingo_credit_money_nigeria','f_sms_loan_v2_action_coupon_1m','f_sms_loan_v2_all_total_2w','f_sms_basic_v2_same_opposite_2m_20','f_app_user_identity_other_licence_path_is_null','f_sms_basic_v2_same_opposite_2m_25','f_sms_loan_v2_action_raise_2m','f_sms_loan_v2_action_coupon_amount_min_1m','f_sms_loan_v2_action_raise_2w','f_sms_loan_v2_action_coupon_amount_count_1m','f_sms_loan_v2_action_approval_distinct_amount_avg_3w','f_sms_basic_v2_same_opposite_3m_60','f_sms_loan_v2_action_coupon_amount_min_1w','f_sms_loan_v2_action_approval_distinct_amount_avg_3m','f_sms_loan_v2_action_coupon_amount_count_1w','f_app_borrowing_curr_max_overdue','f_sms_loan_v2_action_raise_3m','f_sms_loan_v2_invite_3w','f_sms_basic_v2_same_opposite_2m_12','f_sms_basic_v2_same_opposite_2m_15','f_sms_loan_v2_action_raise_3w','f_sms_loan_v2_action_coupon_amount_count_2m','f_app_user_identity_birthday_age','f_intermediate_feature_gender_male_marital_married_lr','f_sms_loan_v2_action_coupon_amount_count_2w','f_app_borrowing_curr_num','f_have_crc','f_sms_loan_v2_action_raise_distinct_amount_count_1m','f_app_list_retentive_time_220622_com_facebook_orca','f_user_device_can_use_storage_size','f_sms_loan_v2_action_coupon_amount_count_3m','f_app_install_detail_same_app_count','f_sms_loan_v2_action_coupon_amount_count_3w','f_sms_loan_v2_action_raise_distinct_amount_count_2m','f_app_install_detail_same_curr_device_id','f_sms_loan_v2_action_raise_1m','f_sms_loan_v2_action_settle_distinct_amount_avg_3m','f_sms_loan_v2_action_raise_1w','f_scrapy_apps_finance_top_10','f_sms_basic_v2_same_opposite_3m_30','f_sms_loan_v2_action_settle_distinct_amount_avg_3w','f_sms_loan_v2_action_raise_distinct_amount_count_1w','f_app_borrowing_curr_vip005_all_overdue_amount','f_sms_loan_v2_action_distinct_overdue_1w','f_sms_basic_v2_same_opposite_3m_25','f_sms_loan_v2_action_settle_distinct_amount_avg_2m','f_sms_loan_v2_action_raise_distinct_amount_count_3m','f_sms_basic_v2_same_opposite_3m_20','f_sms_loan_v2_action_distinct_overdue_1m','f_sms_loan_v2_action_settle_distinct_amount_avg_2w','f_sms_loan_v2_action_raise_distinct_amount_count_2w','f_app_user_identity_id_card_positive_path_is_null','f_sms_basic_v2_same_opposite_3m_15','f_sms_loan_v2_action_settle_distinct_amount_avg_1m','f_sms_basic_v2_same_opposite_3m_12','f_app_crc_classification_ins_amount_overdue_zero_avg','f_scrapy_apps_art_design_count','f_sms_loan_v2_action_settle_distinct_amount_avg_1w','f_sms_loan_v2_action_raise_distinct_amount_count_3w','f_scrapy_apps_personalization_count','f_sms_basic_v2_same_opposite_1w_6','f_sms_basic_v2_same_opposite_1w_2','f_sms_loan_v2_action_distinct_overdue_3w','f_scrapy_apps_sports_count','f_sms_loan_v2_action_coupon_amount_min_3m','f_app_install_detail_same_uid','f_sms_loan_v2_action_coupon_amount_min_3w','f_user_device_total_storage_size','f_sms_loan_v2_action_distinct_overdue_3m','f_sms_basic_v2_same_opposite_1w_9','f_sms_loan_v2_action_coupon_amount_min_2m','f_scrapy_apps_finance_top_50','f_sms_loan_v2_action_distinct_overdue_2w','f_sms_loan_v2_action_coupon_amount_min_2w','f_app_borrowing_min_prepayment_hours','f_sms_loan_v2_action_distinct_overdue_2m','f_sms_loan_v2_action_distinct_approval_1w','f_sms_basic_v2_same_opposite_1m_60','f_sms_loan_v2_action_remind_amount_count_1w','f_app_borrowing_curr_vip005_max_overdue_amount','f_app_crc_classification_ins_approved_credit_sanctioned_single_avg','f_sms_loan_v2_action_distinct_approval_1m','f_app_list_retentive_time_220622_com_microsoft_office_word','f_app_borrowing_max_overdue_days','f_scrapy_apps_productivity_count','f_scrapy_apps_photography_count','f_sms_loan_v2_action_remind_amount_count_1m','f_app_crc_classification_prod_type_recent_overdue_date_diff_days_avg','f_app_borrowing_curr_overdue_count','f_scrapy_apps_dating_count','f_sms_loan_v2_action_distinct_approval_3w','f_sms_loan_v2_action_distinct_approval_3m','f_app_install_detail_same_device_id','f_intermediate_feature_total_storage_size','f_app_borrowing_curr_not_vip005_max_overdue_amount','f_app_borrowing_max_prepayment_hours','f_sms_loan_v2_action_distinct_approval_2w','f_sms_basic_v2_same_opposite_1m_30','f_app_crc_classification_prod_type_sanctioned_amount_avg','f_sms_loan_v2_action_distinct_approval_2m','f_app_crc_classification_prod_type_amount_overdue_sum','f_sms_basic_v2_same_opposite_3w_6','f_app_user_device_brand_8','f_app_user_device_brand_9','f_sms_loan_v2_action_overdue_distinct_amount_media_1w','f_app_user_device_brand_6','f_sms_basic_v2_same_opposite_3w_2','f_app_user_device_brand_7','f_app_user_device_brand_4','f_app_user_device_brand_5','f_user_device_time_country_15','f_user_device_time_country_14','f_sms_loan_v2_action_overdue_distinct_amount_media_1m','f_sms_basic_v2_same_opposite_1m_20','f_user_device_time_country_11','f_user_device_time_country_10','f_user_device_time_country_13','f_user_device_time_country_12','f_sms_basic_v2_same_opposite_1m_25','f_app_user_device_brand_2','f_app_user_device_brand_3','f_app_user_device_brand_1','f_sms_basic_v2_same_opposite_3w_9','f_sms_basic_v2_same_opposite_2m_60','f_app_borrowing_curr_not_vip005_all_overdue_amount','f_sms_basic_v2_square_count_3w','f_sms_basic_v2_same_opposite_1m_12','f_app_user_identity_gender','f_sms_basic_v2_same_opposite_1m_15','f_app_apply_bvn_mobile','f_sms_loan_v2_action_overdue_distinct_amount_media_3w','f_sms_loan_v2_action_remind_amount_count_3w','f_intermediate_feature_gender_male_marital_single','f_sms_loan_v2_action_approval_distinct_amount_avg_1w','f_sms_loan_v2_action_overdue_distinct_amount_media_3m','f_sms_loan_v2_action_approval_distinct_amount_avg_1m','f_app_crc_classification_ins_credit_sanctioned_is_zero_avg_single','f_sms_loan_v2_action_remind_amount_count_3m','f_app_borrowing_curr_vip005_max_loan_amount','f_sms_loan_v2_action_overdue_distinct_amount_media_2w','f_scrapy_apps_maps_count','f_sms_loan_v2_action_remind_amount_count_2w','f_user_device_resolution_width','f_scrapy_apps_weather_count','f_current_app_nearly_3_months_app_percentage','f_sms_loan_v2_action_approval_distinct_amount_avg_2w','f_sms_loan_v2_action_overdue_distinct_amount_media_2m','f_app_crc_classification_prod_type_amount_overdue_zero_avg','f_sms_loan_v2_action_approval_distinct_amount_avg_2m','f_app_user_location_type','f_sms_loan_v2_action_remind_amount_count_2m','f_sms_basic_v2_same_opposite_2m_30','f_app_list_retentive_time_220622_com_loan_cash_credit_easycredit_nigeria','f_app_user_device_brand_48','f_app_user_device_brand_49','f_app_apply_apply_submit_diff_time','f_app_user_device_brand_44','f_app_user_device_brand_45','f_app_user_device_brand_46','f_app_user_device_brand_47','f_app_user_device_brand_40','f_sms_loan_v2_action_amount_amount_min_2w','f_app_user_device_brand_41','f_app_user_device_brand_42','f_sms_loan_v2_action_overdue_amount_count_3m','f_app_user_device_brand_43','f_sms_loan_v2_action_amount_amount_max_1w','f_app_user_device_brand_50','f_sms_loan_v2_action_overdue_amount_count_2w','f_sms_loan_v2_action_amount_amount_max_1m','f_app_crc_classification_ins_count','f_sms_loan_v2_action_amount_amount_min_3m','f_app_borrowing_avg_overdue_days','f_sms_loan_v2_action_amount_amount_min_3w','f_app_user_device_brand_37','f_app_user_device_brand_38','f_app_user_device_brand_39','f_app_user_device_brand_33','f_app_user_device_brand_34','f_app_user_device_brand_35','f_app_user_device_brand_36','f_app_user_device_brand_30','f_app_user_device_brand_31','f_sms_loan_v2_action_amount_amount_max_2w','f_app_user_device_brand_32','f_sms_loan_v2_action_overdue_amount_count_3w','f_sms_loan_v2_action_amount_amount_max_2m','f_app_borrowing_curr_vip005_outstanding_loan_age','f_sms_loan_v2_action_coupon_distinct_amount_count_1w','f_sms_basic_v2_same_opposite_1m_9','f_sms_loan_v2_action_distinct_remind_2w','f_app_crc_classification_prod_type_total_outstanding_balance_avg','f_sms_basic_v2_send_count_2w','f_sms_basic_v2_same_opposite_1m_6','f_scrapy_apps_business_count','f_sms_loan_v2_action_coupon_distinct_amount_count_1m','f_app_user_device_brand_62','f_sms_loan_v2_action_overdue_amount_count_1m','f_app_user_device_brand_63','f_sms_basic_v2_same_opposite_1m_2','f_app_user_device_brand_64','f_sms_loan_v2_action_settle_amount_min_1m','f_sms_basic_v2_send_count_2m','f_sms_loan_v2_action_amount_amount_min_1m','f_sms_loan_v2_action_settle_amount_min_1w','f_sms_loan_v2_action_distinct_remind_2m','f_app_user_device_brand_59','f_sms_loan_v2_action_distinct_remind_3w','f_sms_basic_v2_send_count_3w','f_app_user_device_brand_55','f_app_user_device_brand_56','f_app_user_device_brand_57','f_app_user_device_brand_58','f_app_user_device_brand_51','f_app_user_device_brand_52','f_sms_loan_v2_action_amount_amount_min_1w','f_app_user_device_brand_53','f_app_user_device_brand_54','f_sms_loan_v2_action_overdue_amount_count_2m','f_sms_loan_v2_action_distinct_remind_3m','f_sms_basic_v2_send_count_3m','f_app_user_device_brand_60','f_sms_loan_v2_action_distinct_settle_1m','f_app_crc_classification_prod_type_amount_overdue_zero_sum','f_app_user_device_brand_61','f_sms_loan_v2_action_settle_amount_min_2m','f_sms_loan_v2_action_settle_amount_min_2w','f_sms_loan_v2_action_overdue_amount_count_1w','f_sms_loan_v2_action_amount_amount_min_2m','f_sms_loan_v2_action_distinct_settle_1w','f_sms_loan_v2_action_approval_amount_count_2w','f_sms_loan_v2_action_settle_amount_max_2m','f_sms_loan_v2_action_remind_amount_max_3m','f_app_crc_classification_ins_overdue_credit_rate','f_app_crc_classification_prod_type_recent_overdue_date_diff_days_sum','f_sms_loan_v2_action_remind_amount_max_2w','f_sms_loan_v2_action_distinct_settle_2m','f_sms_loan_v2_action_settle_amount_max_1m','f_app_borrowing_curr_user_count','f_intermediate_feature_sd_total_size','f_sms_loan_v2_action_settle_amount_max_1w','f_sms_loan_v2_action_distinct_settle_2w','f_sms_loan_v2_action_approval_amount_count_2m','f_sms_basic_v2_phone_rate_2w','f_sms_loan_v2_action_distinct_remind_1w','f_sms_loan_v2_action_approval_amount_count_3w','f_sms_loan_v2_action_settle_amount_max_3m','f_sms_loan_v2_action_remind_amount_max_2m','f_user_device_cpu_num','f_app_borrowing_curr_not_vip005_outstanding_loan_age','f_sms_loan_v2_action_distinct_settle_3m','f_sms_loan_v2_action_remind_amount_max_1w','f_sms_basic_v2_phone_rate_3m','f_sms_loan_v2_action_approval_amount_count_3m','f_app_crc_classification_ins_credit_overdue_minus','f_sms_loan_v2_action_distinct_settle_3w','f_sms_basic_v2_receive_count_3w','f_sms_basic_v2_phone_rate_3w','f_sms_loan_v2_action_distinct_remind_1m','f_sms_loan_v2_action_settle_amount_max_2w','f_app_user_device_brand_26','f_app_user_device_brand_27','f_intermediate_feature_gender_female_marital_single','f_app_user_device_brand_28','f_app_user_device_brand_29','f_app_user_device_brand_22','f_app_user_device_brand_23','f_sms_loan_v2_action_remind_amount_max_1m','f_app_user_device_brand_24','f_app_user_device_brand_25','f_app_user_device_brand_20','f_app_user_device_brand_21','f_sms_loan_v2_action_settle_amount_max_3w','f_app_user_device_brand_19','f_app_user_device_brand_15','f_sms_loan_v2_action_approval_amount_count_1w','f_app_user_device_brand_16','f_app_user_device_brand_17','f_app_user_device_brand_18','f_app_user_device_brand_11','f_app_user_device_brand_12','f_app_user_device_brand_13','f_app_user_device_brand_14','f_app_user_device_brand_10','f_sms_loan_v2_action_approval_amount_count_1m','f_sms_loan_v2_action_distinct_coupon_2w','f_sms_loan_v2_action_distinct_raise_3m','f_sms_basic_v2_same_opposite_3m_9','f_sms_basic_v2_same_opposite_3m_6','f_sms_loan_v2_action_distinct_coupon_2m','f_app_borrowing_last_rank_select_amount','f_sms_loan_v2_action_distinct_raise_2w','f_app_list_retentive_time_220622_team_opay_pay','f_scrapy_apps_social_count','f_sms_loan_v2_action_distinct_coupon_3w','f_current_app_app_count','f_sms_loan_v2_action_distinct_coupon_3m','f_sms_basic_v2_same_opposite_3m_2','f_sms_loan_v2_action_distinct_raise_3w','f_sms_loan_v2_action_amount_amount_count_3m','f_sms_loan_v2_action_amount_amount_count_3w','f_sms_basic_v2_phone_rate_1w','f_sms_loan_v2_action_distinct_raise_1m','f_sms_basic_v2_phone_rate_2m','f_app_crc_classification_ins_oustanding_balance_avg','f_user_device_mac_address_is_blank','f_sms_loan_v2_action_distinct_coupon_1w','f_sms_loan_v2_action_distinct_raise_2m','f_sms_loan_v2_action_remind_amount_max_3w','f_sms_basic_v2_phone_rate_1m','f_sms_loan_v2_action_distinct_raise_1w','f_app_crc_classification_prod_type_no_acc_last_six_mon_avg','f_intermediate_feature_can_use_storage_size','f_app_list_retentive_time_220622_ng_com_fairmoney_fairmoney','f_sms_loan_v2_action_distinct_coupon_1m','f_app_borrowing_last_select_amount','f_sms_loan_v2_action_coupon_distinct_amount_count_3w','f_sms_loan_v2_action_coupon_distinct_amount_avg_1m','f_sms_loan_v2_action_coupon_distinct_amount_count_3m','f_sms_loan_v2_action_remind_amount_min_3w','f_app_apply_bank_match_percentage','f_sms_loan_v2_action_coupon_distinct_amount_avg_1w','f_sms_loan_v2_action_settle_amount_min_3m','f_app_list_retentive_time_220622_com_loan_cash_credit_okash_nigeria','f_sms_loan_v2_action_coupon_amount_max_3w','f_sms_loan_v2_action_remind_amount_min_3m','f_sms_loan_v2_action_settle_amount_min_3w','f_sms_loan_v2_invite_1m','f_app_crc_classification_ins_amount_overdue_sum','f_sms_loan_v2_action_raise_amount_min_3w','f_sms_basic_v2_send_count_1w','f_sms_loan_v2_action_coupon_distinct_amount_count_2w','f_sms_loan_v2_action_raise_amount_min_3m','f_sms_loan_v2_action_coupon_distinct_amount_count_2m','f_app_crc_classification_ins_approved_credit_sanctioned_sum','f_sms_loan_v2_action_coupon_distinct_amount_avg_2w','f_sms_loan_v2_action_coupon_amount_max_3m','f_sms_basic_v2_send_count_1m','f_sms_loan_v2_action_coupon_amount_max_2w','f_sms_loan_v2_action_coupon_distinct_amount_avg_2m','f_sms_loan_v2_action_settle_3w','f_sms_loan_v2_action_settle_3m','f_sms_loan_v2_action_raise_distinct_amount_avg_1w','f_sms_loan_v2_action_remind_amount_min_1w','f_app_borrowing_curr_max_overdue_amount','f_sms_loan_v2_action_amount_amount_max_3w','f_sms_loan_v2_invite_2w','f_sms_loan_v2_action_coupon_amount_max_2m','f_intermediate_feature_total_memory_size','f_sms_loan_v2_action_coupon_distinct_amount_avg_3w','f_scrapy_apps_android_wear_count','f_sms_loan_v2_action_coupon_amount_max_1w','f_sms_loan_v2_action_amount_amount_max_3m','f_sms_loan_v2_action_remind_amount_min_1m','f_sms_loan_v2_action_raise_distinct_amount_avg_2w','f_sms_loan_v2_action_settle_2w','f_sms_loan_v2_invite_3m','f_sms_loan_v2_action_coupon_distinct_amount_avg_3m','f_app_crc_classification_ins_credit_sanctioned_is_zero_avg','f_sms_loan_v2_action_raise_distinct_amount_avg_2m','f_app_user_street_is_null','f_app_list_retentive_time_220622_cn_xender','f_sms_loan_v2_action_settle_2m','f_sms_loan_v2_action_remind_amount_min_2w','f_sms_loan_v2_invite_1w','f_sms_loan_v2_action_coupon_amount_max_1m','f_app_list_retentive_time_220622_us_zoom_videomeetings','f_sms_loan_v2_action_remind_amount_min_2m','f_sms_loan_v2_action_raise_distinct_amount_avg_3w','f_app_crc_classification_ins_legal_flag_avg','f_sms_loan_v2_invite_2m','f_sms_loan_v2_action_raise_distinct_amount_avg_3m','f_sms_loan_v2_action_settle_1w','f_sms_loan_v2_action_settle_1m','f_scrapy_apps_house_count','f_app_crc_classification_prod_count','f_sms_loan_v2_action_overdue_amount_min_3w','f_sms_loan_v2_action_remind_distinct_amount_media_2m','f_sms_loan_v2_action_amount_distinct_amount_media_1m','f_sms_loan_v2_platform_distinct_1m','f_sms_loan_v2_action_overdue_amount_max_2w','f_sms_loan_v2_action_amount_distinct_amount_media_1w','f_sms_loan_v2_action_overdue_amount_max_2m','f_sms_loan_v2_action_settle_distinct_amount_media_1m','f_sms_loan_v2_platform_distinct_1w','f_sms_loan_v2_action_remind_distinct_amount_media_1w','f_scrapy_apps_health_count','f_app_crc_classification_ins_amount_overdue_zero_sum','f_sms_loan_v2_action_remind_distinct_amount_media_3m','f_app_crc_classification_ins_approved_credit_sanctioned_avg','f_app_crc_classification_ins_credit_sanctioned_is_zero_sum_single','f_sms_loan_v2_action_overdue_amount_max_3w','f_sms_loan_v2_action_amount_distinct_amount_media_2m','f_scrapy_apps_tools_count','f_sms_loan_v2_action_amount_distinct_amount_media_2w','f_sms_basic_v2_same_opposite_2w_30','f_sms_loan_v2_action_raise_amount_max_1m','f_sms_loan_v2_action_overdue_amount_max_3m','f_sms_loan_v2_action_remind_distinct_amount_media_2w','f_sms_loan_v2_action_raise_distinct_amount_avg_1m','f_sms_loan_v2_action_raise_amount_max_1w','f_intermediate_feature_mac_address_is_blank','f_sms_loan_v2_platform_distinct_3w','f_app_user_user_type_4','f_sms_loan_v2_action_settle_distinct_amount_count_3m','f_app_user_user_type_5','f_app_user_user_type_2','f_sms_loan_v2_action_raise_amount_min_2m','f_app_user_user_type_3','f_app_user_user_type_1','f_sms_loan_v2_action_amount_distinct_amount_media_3m','f_sms_loan_v2_platform_distinct_3m','f_sms_loan_v2_action_overdue_amount_min_1w','f_sms_loan_v2_action_overdue_amount_min_2m','f_sms_basic_v2_same_opposite_2w_20','f_sms_loan_v2_action_settle_distinct_amount_count_3w','f_sms_loan_v2_action_remind_distinct_amount_media_3w','f_app_user_identity_loan_use','f_sms_loan_v2_action_amount_distinct_amount_media_3w','f_sms_loan_v2_action_raise_amount_min_2w','f_scrapy_apps_games_count','f_sms_basic_v2_same_opposite_2w_25','f_sms_basic_v2_same_opposite_2w_6','f_sms_loan_v2_platform_distinct_2w','f_app_user_identity_salary_sheet_recently_path_is_null','f_sms_basic_v2_same_opposite_2w_2','f_app_crc_classification_ins_credit_balance_minus','f_sms_loan_v2_action_settle_distinct_amount_count_2m','f_app_crc_classification_ins_no_overdue_amount_single_sum','f_sms_loan_v2_action_raise_amount_min_1m','f_sms_loan_v2_action_overdue_amount_min_2w','f_sms_loan_v2_action_overdue_amount_max_1w','f_app_borrowing_curr_not_vip005_num','f_sms_loan_v2_platform_distinct_2m','f_sms_loan_v2_action_settle_distinct_amount_count_2w','f_sms_loan_v2_action_overdue_amount_min_3m','f_sms_loan_v2_action_overdue_amount_max_1m','f_app_list_retentive_time_220622_com_google_android_talk','f_sms_basic_v2_same_opposite_2w_15','f_sms_basic_v2_same_opposite_2w_9','f_app_borrowing_curr_max_loan_amount','f_sms_loan_v2_action_raise_amount_min_1w','f_app_borrowing_curr_outstanding_loan_age','f_sms_basic_v2_same_opposite_2w_12','f_sms_loan_v2_action_amount_distinct_amount_count_1w','f_app_crc_classification_prod_type_no_acc_last_six_mon_sum','f_sms_loan_v2_action_remind_distinct_amount_count_2w','f_user_device_time_zone_11','f_user_device_time_zone_10','f_sms_loan_v2_action_remind_3w','f_sms_loan_v2_action_remind_distinct_amount_count_2m','f_sms_loan_v2_action_amount_distinct_amount_count_1m','f_sms_loan_v2_action_settle_distinct_amount_count_1m','f_scrapy_apps_shopping_count','f_user_device_is_emulator','f_sms_loan_v2_action_settle_distinct_amount_count_1w','f_sms_loan_v2_action_settle_distinct_amount_media_3w','f_sms_loan_v2_action_amount_distinct_amount_count_2w','f_intermediate_feature_gender_female_age','f_sms_loan_v2_action_remind_distinct_amount_count_3w','f_sms_loan_v2_action_remind_distinct_amount_count_3m','f_sms_loan_v2_action_amount_distinct_amount_count_2m','f_user_device_time_zone_8','f_sms_loan_v2_action_amount_distinct_amount_count_3m','f_user_device_time_zone_7','f_user_device_time_zone_9','f_app_crc_classification_ins_credit_balance_minus_single','f_user_device_time_zone_4','f_user_device_time_zone_3','f_app_apply_bvn_birthday','f_user_device_time_zone_6','f_sms_loan_v2_action_approval_distinct_amount_media_3w','f_user_device_time_zone_5','f_user_device_resolution_total','f_user_device_time_zone_2','f_user_device_time_zone_1','f_sms_loan_v2_action_remind_1m','f_sms_loan_v2_action_amount_distinct_amount_count_3w','f_sms_loan_v2_action_settle_distinct_amount_media_2w','f_app_list_retentive_time_220622_ni_lcredit_money_cash','f_intermediate_feature_gender_male_age_lr','f_app_user_personal_residential_detail_address_len','f_sms_loan_v2_action_remind_1w','f_sms_loan_v2_action_approval_distinct_amount_media_3m','f_sms_loan_v2_action_approval_distinct_amount_media_2m','f_sms_loan_v2_action_raise_amount_max_2m','f_sms_loan_v2_action_amount_amount_count_2m','f_sms_loan_v2_action_settle_distinct_amount_media_3m','f_scrapy_apps_libraries_count','f_sms_loan_v2_action_approval_distinct_amount_media_2w','f_sms_loan_v2_action_raise_amount_max_2w','f_sms_loan_v2_action_amount_amount_count_2w','f_sms_loan_v2_action_remind_2m','f_sms_loan_v2_action_settle_distinct_amount_media_1w','f_app_borrowing_last_loan_and_risk_interval_hours','f_sms_loan_v2_action_remind_2w','f_app_list_retentive_time_220622_com_whatsapp','f_user_device_total_memory_size','f_current_app_nearly_1_months_app_count','f_app_crc_classification_prod_type_no_of_accounts_avg','f_sms_loan_v2_action_approval_distinct_amount_media_1m','f_sms_loan_v2_action_raise_amount_max_3m','f_app_borrowing_curr_not_vip005_max_overdue','f_sms_loan_v2_action_amount_amount_count_1m','f_sms_loan_v2_action_approval_distinct_amount_media_1w','f_sms_loan_v2_action_settle_distinct_amount_media_2m','f_sms_loan_v2_action_amount_amount_count_1w','f_scrapy_apps_medical_count','f_sms_loan_v2_action_raise_amount_max_3w','f_scrapy_apps_lifestyle_count','f_sms_loan_v2_action_remind_3m','f_sms_basic_v2_receive_count_1m','f_scrapy_apps_parenting_count','f_sms_loan_v2_action_coupon_distinct_amount_media_3m','f_sms_basic_v2_same_opposite_3w_15','f_sms_basic_v2_same_opposite_3w_12','f_sms_loan_v2_action_coupon_distinct_amount_media_2w','f_scrapy_apps_auto_vehicles_count','f_sms_basic_v2_same_opposite_3w_20','f_app_list_retentive_time_220622_com_beatha_mkopokaka','f_intermediate_feature_gender_female_age_lr','f_sms_loan_v2_action_coupon_distinct_amount_media_2m','f_sms_basic_v2_same_opposite_3w_25','f_user_device_sd_can_use_size','f_app_crc_classification_ins_accounts_avg','f_sms_loan_v2_action_coupon_distinct_amount_media_1w','f_sms_basic_v2_receive_count_3m','f_sms_basic_v2_same_opposite_3w_30','f_sms_basic_v2_same_opposite_1w_60','f_app_crc_classification_ins_amount_overdue_single_avg','f_sms_basic_v2_receive_count_2w','f_sms_loan_v2_action_approval_amount_max_1m','f_current_app_nearly_2_months_app_count','f_sms_basic_v2_receive_count_2m','f_app_install_detail_same_last_submit_time','f_user_device_network_type_6','f_user_device_network_type_7','f_user_device_network_type_8','f_user_device_network_type_9','f_sms_loan_v2_action_remind_distinct_amount_count_1w','f_sms_loan_v2_action_remind_distinct_amount_count_1m','f_app_list_retentive_time_220622_com_lagos_mintloan_much_money','f_sms_loan_v2_action_coupon_distinct_amount_media_3w','f_user_device_network_type_2','f_user_device_network_type_3','f_user_device_network_type_4','f_user_device_network_type_5','f_sms_basic_v2_receive_count_1w','f_user_device_network_type_1','f_sms_loan_v2_action_amount_3m','f_sms_loan_v2_action_distinct_amount_1m','f_sms_loan_v2_action_amount_3w','f_scrapy_apps_finance_top_100','f_scrapy_apps_news_count','f_sms_basic_v2_same_opposite_3w_60','f_app_user_identity_middle_name_is_null','f_sms_basic_v2_same_opposite_1w_30','f_scrapy_apps_finance_count','f_sms_loan_v2_action_overdue_amount_min_1m','f_app_apply_bvn_name','f_app_crc_classification_ins_overdue_balance_minus','f_sms_basic_v2_same_opposite_1w_25','f_app_crc_classification_prod_type_amount_overdue_avg','f_intermediate_feature_gender_male_age','f_sms_basic_v2_same_opposite_1w_20','f_app_list_retentive_time_220622_com_loancash_android','f_sms_basic_v2_same_opposite_2w_60','f_sms_loan_v2_action_distinct_amount_3m','f_sms_loan_v2_action_distinct_amount_3w','f_sms_basic_v2_same_opposite_1w_12','f_sms_loan_v2_action_distinct_amount_1w','f_sms_basic_v2_same_opposite_1w_15','f_app_list_retentive_time_220622_com_microsoft_office_excel','f_sms_loan_v2_action_distinct_amount_2m','f_scrapy_apps_beauty_count','f_sms_loan_v2_action_distinct_amount_2w'\n",
    "]\n",
    "\n",
    "len(feature_num)"
   ]
  },
  {
   "cell_type": "code",
   "execution_count": 52,
   "id": "5e4acbce-1ec3-4684-b296-8ed74ad2a45e",
   "metadata": {},
   "outputs": [],
   "source": [
    "# 加载StandardScaler\n",
    "loaded_scaler = joblib.load('scaler.joblib')"
   ]
  },
  {
   "cell_type": "code",
   "execution_count": 53,
   "id": "ca4ff038-192b-4305-a807-8a57ef2d496b",
   "metadata": {},
   "outputs": [],
   "source": [
    "# 在需要标准化新数据时使用加载的scaler\n",
    "X_train_num = loaded_scaler.transform(train_data[feature_num])\n",
    "X_test_num = loaded_scaler.transform(test_data[feature_num])\n",
    "X_idt_num = loaded_scaler.transform(IDT_test[feature_num])"
   ]
  },
  {
   "cell_type": "markdown",
   "id": "6f5ed07b-a76b-46c0-9450-5ecaafdc01a4",
   "metadata": {},
   "source": [
    "## APP 数据处理"
   ]
  },
  {
   "cell_type": "code",
   "execution_count": 54,
   "id": "5e06ed40-73df-4521-b44f-f0138fe9bde5",
   "metadata": {},
   "outputs": [],
   "source": [
    "# 从 JSON 文件加载 Tokenizer 配置\n",
    "with open('tokenizer_config_app.json', 'r', encoding='utf-8') as json_file:\n",
    "    loaded_tokenizer_json = json_file.read()\n",
    "    tokenizer_app = tf.keras.preprocessing.text.tokenizer_from_json(loaded_tokenizer_json)"
   ]
  },
  {
   "cell_type": "code",
   "execution_count": 55,
   "id": "74a1278e-82cb-474a-8c3e-7178188ae420",
   "metadata": {},
   "outputs": [],
   "source": [
    "# 文本向量化\n",
    "max_len_app = 150  # 设定应用程序列表的最大长度\n",
    "vocab_size = len(tokenizer_app.word_index) + 1"
   ]
  },
  {
   "cell_type": "code",
   "execution_count": 56,
   "id": "7f970a56-2c24-4457-84d8-177550e6a030",
   "metadata": {},
   "outputs": [
    {
     "data": {
      "text/plain": [
       "11925"
      ]
     },
     "execution_count": 56,
     "metadata": {},
     "output_type": "execute_result"
    }
   ],
   "source": []
  },
  {
   "cell_type": "code",
   "execution_count": 57,
   "id": "3682426d-ee8d-410e-8f19-2cd96c6d142e",
   "metadata": {},
   "outputs": [],
   "source": [
    "X_train_app_seq = tokenizer_app.texts_to_sequences(train_data.preprocessed_app.apply(lambda x: list(x.keys())))\n",
    "X_test_app_seq = tokenizer_app.texts_to_sequences(test_data.preprocessed_app.apply(lambda x: list(x.keys())))\n",
    "X_idt_app_seq = tokenizer_app.texts_to_sequences(IDT_test.preprocessed_app.apply(lambda x: list(x.keys())))"
   ]
  },
  {
   "cell_type": "code",
   "execution_count": 60,
   "id": "580ac973-bdbe-4339-9843-75c95d97928b",
   "metadata": {},
   "outputs": [],
   "source": [
    "X_train_app = pad_sequences(X_train_app_seq, maxlen=max_len_app, padding='post')\n",
    "X_test_app = pad_sequences(X_test_app_seq, maxlen=max_len_app, padding='post')\n",
    "X_idt_app = pad_sequences(X_idt_app_seq, maxlen=max_len_app, padding='post')"
   ]
  },
  {
   "cell_type": "markdown",
   "id": "8b77decb-a98f-4b45-8c69-2ddfec29afdf",
   "metadata": {},
   "source": [
    "## 数据合并"
   ]
  },
  {
   "cell_type": "code",
   "execution_count": 63,
   "id": "ecc5f4a4-d9cc-4aa7-a9e0-ff2140a0fb27",
   "metadata": {},
   "outputs": [],
   "source": [
    "train_dataset = tf.data.Dataset.from_tensor_slices(({\"text_input\": X_train_sms\n",
    "                                                     , \"numeric_input\": X_train_num\n",
    "                                                     , \"app_input\": X_train_app\n",
    "                                                    }\n",
    "                                                    , train_data['d7']))\n",
    "\n",
    "test_dataset = tf.data.Dataset.from_tensor_slices(({\"text_input\": X_test_sms\n",
    "                                                    , \"numeric_input\": X_test_num\n",
    "                                                    , \"app_input\": X_test_app\n",
    "                                                   }\n",
    "                                                   , test_data['d7']))\n",
    "\n",
    "idt_dataset = tf.data.Dataset.from_tensor_slices(({\"text_input\": X_idt_sms\n",
    "                                                   , \"numeric_input\": X_idt_num\n",
    "                                                   , \"app_input\": X_idt_app\n",
    "                                                  }\n",
    "                                                  , IDT_test['d7']))"
   ]
  },
  {
   "cell_type": "code",
   "execution_count": 64,
   "id": "0c526188-5eee-4cf9-a00c-94246f196bb1",
   "metadata": {},
   "outputs": [],
   "source": [
    "# 设置批量大小和缓冲区大小\n",
    "batch_size = 128\n",
    "buffer_size = 512"
   ]
  },
  {
   "cell_type": "code",
   "execution_count": 65,
   "id": "a3d8578d-d67a-4fdf-aaaa-09a38be97fdc",
   "metadata": {},
   "outputs": [],
   "source": [
    "# 打乱并批量处理数据集\n",
    "train_dataset = train_dataset.shuffle(buffer_size).batch(batch_size)\n",
    "test_dataset = test_dataset.batch(batch_size)\n",
    "idt_dataset = idt_dataset.batch(batch_size)"
   ]
  },
  {
   "cell_type": "code",
   "execution_count": null,
   "id": "53e08c54-fbd7-4014-ae26-1c023654d37b",
   "metadata": {},
   "outputs": [],
   "source": []
  },
  {
   "cell_type": "code",
   "execution_count": null,
   "id": "2d139f0b-8254-4f36-bcd6-9c462a7d80f9",
   "metadata": {},
   "outputs": [],
   "source": []
  },
  {
   "cell_type": "code",
   "execution_count": null,
   "id": "e2c77173-ed9a-4192-bb84-5cd41a0076cb",
   "metadata": {},
   "outputs": [],
   "source": []
  },
  {
   "cell_type": "markdown",
   "id": "451aa8c3-7abe-40fb-a664-b23e02eb7ebe",
   "metadata": {},
   "source": [
    "# 模型定义"
   ]
  },
  {
   "cell_type": "code",
   "execution_count": 70,
   "id": "2a466c22-0740-4381-93d9-5721dbed44f1",
   "metadata": {},
   "outputs": [],
   "source": [
    "# 构建TextCNN模型\n",
    "embedding_dim = 50  # 选择嵌入层的维度\n",
    "num_filters = 128   # 选择卷积核的数量\n",
    "filter_sizes = [3, 4, 5]  # 多核卷积的核尺寸\n",
    "\n",
    "# 定义文本输入\n",
    "text_input = Input(shape=(max_len_sms,), name=\"text_input\")\n",
    "embedding_layer = Embedding(input_dim=max_words, output_dim=embedding_dim, input_length=max_len_sms)(text_input)\n",
    "\n",
    "# 多核卷积\n",
    "conv_layers = []\n",
    "for filter_size in filter_sizes:\n",
    "    conv_layer = Conv1D(filters=num_filters, kernel_size=filter_size, activation='relu')(embedding_layer)\n",
    "    conv_layers.append(GlobalMaxPooling1D()(conv_layer))\n",
    "\n",
    "# 合并多核卷积的结果\n",
    "if len(filter_sizes) > 1:\n",
    "    merged_conv = concatenate(conv_layers, axis=1)\n",
    "else:\n",
    "    merged_conv = conv_layers[0]\n",
    "\n",
    "# Dropout层\n",
    "merged_conv = Dropout(0.5)(merged_conv)\n",
    "\n",
    "# 定义数值特征输入\n",
    "numeric_input = Input(shape=(len(feature_num),), name=\"numeric_input\")\n",
    "# 数值特征处理\n",
    "numeric_input_reshaped = Reshape((len(feature_num), 1))(numeric_input)\n",
    "# 计算填充长度\n",
    "padding_length = max_len_sms - len(feature_num)\n",
    "# 添加填充层\n",
    "padded_numeric_input = ZeroPadding1D(padding=(0, padding_length))(numeric_input_reshaped)\n",
    "# 添加卷积层或全连接层\n",
    "conv1d_numeric = Conv1D(filters=num_filters, kernel_size=3, activation='relu')(padded_numeric_input)\n",
    "# 池化\n",
    "global_max_pooling_numeric = GlobalMaxPooling1D()(conv1d_numeric)\n",
    "\n",
    "# Dropout层\n",
    "global_max_pooling_numeric = Dropout(0.5)(global_max_pooling_numeric)\n",
    "\n",
    "# 调整全连接层的形状使其与 merged_conv 的形状相匹配\n",
    "dense_numeric = Dense(num_filters * len(filter_sizes))(global_max_pooling_numeric)\n",
    "\n",
    "# 残差连接\n",
    "residual_layer = Add()([merged_conv, dense_numeric])\n",
    "\n",
    "# 定义应用程序输入\n",
    "app_input = Input(shape=(max_len_app,), name=\"app_input\")\n",
    "embedding_layer_app = Embedding(input_dim=vocab_size, output_dim=embedding_dim, input_length=max_len_app)(app_input)\n",
    "conv_layer_app = Conv1D(filters=num_filters, kernel_size=3, activation='relu')(embedding_layer_app)\n",
    "global_max_pooling_app = GlobalMaxPooling1D()(conv_layer_app)\n",
    "\n",
    "# Dropout层\n",
    "global_max_pooling_app = Dropout(0.5)(global_max_pooling_app)\n",
    "\n",
    "# 合并文本、数值特征和应用程序特征\n",
    "merged_layer = concatenate([residual_layer, global_max_pooling_app, numeric_input])\n",
    "\n",
    "# 全连接层\n",
    "dense_layer = Dense(128, activation='relu')(merged_layer)\n",
    "output_layer = Dense(1, activation='sigmoid')(dense_layer)\n",
    "\n",
    "# 构建模型\n",
    "model = Model(inputs=[text_input, app_input, numeric_input], outputs=output_layer)"
   ]
  },
  {
   "cell_type": "code",
   "execution_count": null,
   "id": "b29d1450-31b5-4c51-ab38-2d80755b260a",
   "metadata": {},
   "outputs": [],
   "source": []
  },
  {
   "cell_type": "code",
   "execution_count": 71,
   "id": "32690a1c-eaac-4f66-9411-d1c4274db341",
   "metadata": {},
   "outputs": [
    {
     "name": "stderr",
     "output_type": "stream",
     "text": [
      "WARNING:absl:At this time, the v2.11+ optimizer `tf.keras.optimizers.Adam` runs slowly on M1/M2 Macs, please use the legacy Keras optimizer instead, located at `tf.keras.optimizers.legacy.Adam`.\n"
     ]
    }
   ],
   "source": [
    "# 定义损失函数、优化器和评估指标\n",
    "loss_fn = BinaryCrossentropy()\n",
    "optimizer = Adam(learning_rate=0.001)\n",
    "auc_metric = AUC()"
   ]
  },
  {
   "cell_type": "code",
   "execution_count": 72,
   "id": "1c4117b0-f2c5-4010-9edc-9e919fd148f7",
   "metadata": {},
   "outputs": [],
   "source": [
    "# 编译模型\n",
    "model.compile(optimizer='adam', loss='binary_crossentropy', metrics=[AUC()])"
   ]
  },
  {
   "cell_type": "code",
   "execution_count": null,
   "id": "62f5c205-6dc4-4e61-81b1-d3bd896bb7b0",
   "metadata": {},
   "outputs": [],
   "source": [
    "model.build(input_shape=(batch_size, max_len_sms, len(feature_num), max_len_app))\n",
    "# 打印模型概要\n",
    "model.summary()"
   ]
  },
  {
   "cell_type": "code",
   "execution_count": 75,
   "id": "c53b6807-2100-4e74-8058-ef0531842cae",
   "metadata": {},
   "outputs": [],
   "source": [
    "# 设置保存模型的回调\n",
    "checkpoint_filepath = \"./checkpoint_num_sms_app\"  # 替换为实际路径\n",
    "model_checkpoint_callback = ModelCheckpoint(\n",
    "    filepath=os.path.join(checkpoint_filepath, \"model_{epoch:02d}\"),\n",
    "    monitor='val_auc',  # 监控 AUC 在验证集上的表现\n",
    "    mode='auto',\n",
    "    save_best_only=False,\n",
    "    save_weights_only=False,\n",
    "    save_format=\"tf\",\n",
    "    save_freq=1\n",
    "    \n",
    ")"
   ]
  },
  {
   "cell_type": "code",
   "execution_count": 76,
   "id": "9e7e9b2d-2250-46fc-8f37-b588a8ee36cf",
   "metadata": {},
   "outputs": [],
   "source": [
    "early_stopping = tf.keras.callbacks.EarlyStopping(patience=5, restore_best_weights=True)\n",
    "tensorboard = tf.keras.callbacks.TensorBoard(log_dir=\"logs\")"
   ]
  },
  {
   "cell_type": "code",
   "execution_count": 77,
   "id": "80377241-7063-4c10-8113-db9c4838bc9d",
   "metadata": {},
   "outputs": [],
   "source": [
    "# 自定义 Callback 来计算验证集 AUC 并直接输出\n",
    "class CalculateAUCCallback(Callback):\n",
    "    def __init__(self, validation_data):\n",
    "        super(CalculateAUCCallback, self).__init__()\n",
    "        self.validation_data = validation_data\n",
    "\n",
    "    def on_epoch_end(self, epoch, logs=None):\n",
    "        val_predictions = self.model.predict(self.validation_data.take(len(list(self.validation_data))))\n",
    "        val_labels = []\n",
    "        for batch in self.validation_data:\n",
    "            val_labels.append(batch[1])\n",
    "        val_labels = np.concatenate(val_labels, axis=0)\n",
    "        val_auc = roc_auc_score(val_labels, val_predictions)\n",
    "        print(f'Epoch {epoch + 1}, IDT AUC: {val_auc:.4f}')"
   ]
  },
  {
   "cell_type": "code",
   "execution_count": null,
   "id": "6fce2f2d-397d-454a-a734-03c7916e6d02",
   "metadata": {
    "scrolled": true
   },
   "outputs": [],
   "source": [
    "# 使用 model.fit() 进行训练\n",
    "num_epochs = 20\n",
    "model.fit(train_dataset,\n",
    "           epochs=num_epochs,\n",
    "           validation_data=test_dataset,\n",
    "           callbacks=[\n",
    "               model_checkpoint_callback,\n",
    "               early_stopping,\n",
    "               tensorboard,\n",
    "               CalculateAUCCallback(validation_data=idt_dataset)\n",
    "           ]\n",
    ")"
   ]
  },
  {
   "cell_type": "code",
   "execution_count": null,
   "id": "b7962208-c3fc-4db5-8835-2b32aa2ff961",
   "metadata": {},
   "outputs": [],
   "source": []
  },
  {
   "cell_type": "code",
   "execution_count": null,
   "id": "b3e58b3c-4fa8-4f14-8a01-d58106484666",
   "metadata": {},
   "outputs": [],
   "source": []
  },
  {
   "cell_type": "code",
   "execution_count": null,
   "id": "fcbb3487-9395-42b2-8094-fb8efa285509",
   "metadata": {},
   "outputs": [],
   "source": []
  }
 ],
 "metadata": {
  "kernelspec": {
   "display_name": "Python 3 (ipykernel)",
   "language": "python",
   "name": "python3"
  },
  "language_info": {
   "codemirror_mode": {
    "name": "ipython",
    "version": 3
   },
   "file_extension": ".py",
   "mimetype": "text/x-python",
   "name": "python",
   "nbconvert_exporter": "python",
   "pygments_lexer": "ipython3",
   "version": "3.9.6"
  }
 },
 "nbformat": 4,
 "nbformat_minor": 5
}
